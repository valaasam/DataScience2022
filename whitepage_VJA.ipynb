{
 "cells": [
  {
   "cell_type": "markdown",
   "id": "10255192",
   "metadata": {},
   "source": [
    "#### Background\n",
    "Endogenous circadian clocks exist in all organisms, from cyanobacteria to vertebrates, functioning to synchronize behavior and physiology with the external environment. Light is one of the strongest zeitgebers, or external synchronizing cues, of endogenous circadian rhythms across taxa, synchronizing ciradian rhythms of basic biological processes such as sleep–wake cycles, body temperature, hormone secretion, cardiovascular systems, and metabolism with the natural patterns of sunlight. The invention of artificial light has disrupted natural photoperiodic cues used to entrain these rhythms and has led to consequences for humans and wildlife alike. It is now well documented that exposure to artificial light at night (ALAN) alters behavior, endocrine pathways, metabolism, cardiovascular function, and leads to pathology. Still, it remains unclear downstream effects of ALAN are related to circadian rhythm regulation. Does ALAN alter behavior and physiology and cause long-term pathology through circadian rhythm misalignment, or act on behavior and physiology directly? To effectively mitigate the effects of light pollution, it is important to understand the mechanisms by which exposure to dim, environmentally relevant levels of night-light affect behavior and physiology in diurnal organisms. \n",
    "\n",
    "Birds are a useful diurnal model for answering this question, as the neuroendocrine pathways that transduce light information from sensory systems to downstream processes have been well described and are conserved across vertebrates. In birds, light stimulates non-visual photoreceptors (opsins) in the retina, the pineal gland, and suprachiasmatic nuclei (SCN) of the hypothalamus. Stimulation by light results in the expression of pacemaker genes Clock (Clk) and Brain and muscle Arnt-like protein-1 (Bmal1), which thereafter induces expression of Period (Per) and Cryptochrome (Cry), creating an autoregulatory feedback loop where expression of each gene oscillates in a unique 24-hour rhythm. This central clock in the brain entrains circadian oscillators in peripheral tissues, such as the liver and heart, and affects downstream physiology and behavior by regulating the synthesis and release of melatonin. \n",
    "\n",
    "In this study we link expression of pacemaker genes in brain tissue and melatonin with the behavioral (activity) circadian rhythms under ALAN. We predict that individuals exposed to ALAN for 10 days will have disrupted circadian rhythms of activity, circadian gene expression and plasma melatonin compared to controls. \n",
    "\n",
    "#### Data collection\n",
    "All procedures were carried out in accordance with National Institute of Health guidelines and were approved by the University of Nevada, Reno Institutional Animal Care and Use Committee. Twenty-four zebra finches were housed in individual cages and habituated to 10L:14D photoperiod for 4 weeks. Daylights turned on at 07:00 and turned off at 17:00. Night lights turned on at 17:00 and turned off at 07:00 and were provided by a 20cm X 1.5cm 5000K LED strip and standardized at 1.5 lux ±0.01. Active perches within each cage recorded movement on/off of the perch constantly, which is a reliable measure of circadian activity. The perch activity was recorded on a Dell Precision 5810 Tower with an Intel® Xeon® Processor (E5-1620 v3) at 3.5GHz, and an AMD FirePro™ W4100 graphics card. A graphical user interface (GUI) was created in MATLAB to both record and display the activity of the birds via the active perches. The active perches were connected to an optical end-stop so that the downward force of the bird caused the wooden perch to shift down, thus blocking the signal between the emitter and the receiver on the end-stop.  Upon hopping off, the active perch returns to its neutral position. Each end-stop sent a 1 or 0 to the computer depending on whether the bird was on or off the active perch, respectively. Data for all of the active perches were collected every 0.23 seconds (approximately), and totaled for every minute of activity. \n",
    "\n",
    "Data from each day is output into a text file, resulting in one text file per day of experiment.  The text files are named in a terrible string format including spaces and commas and a combination of letters and numbers.\n",
    "\n",
    "e.g. \"July 01, 2021.txt\"\n",
    "\n",
    "Within the file, activity per minute is recorded in long strings of integers, separated by tabs (\\t), and organized in 24 rows of 60 columns (rows corresponding to hours and columns corresponding to minutes). Data for each cage is sequential, therefore 24 rows x 24 cages adds up to 600 rows. The first minute is considered column 0, the last minute (59) is column 59, and so column 60 ends up being empty. "
   ]
  },
  {
   "cell_type": "code",
   "execution_count": 14,
   "id": "dd485122",
   "metadata": {},
   "outputs": [
    {
     "name": "stdout",
     "output_type": "stream",
     "text": [
      "   0   1   2   3   4   5   6   7   8   9   ...  51  52  53  54  55  56  57  \\\n",
      "0   0   0   0   0   0   0   0   0   0   1  ...   0   0   0   0   0   0   0   \n",
      "1   0   0   2   0   0   0   0   0   0   0  ...   0   0   0   0   0   0   0   \n",
      "2   0   0   0   0   0   0   0   1   0   0  ...   0   1   0   0   0   0   0   \n",
      "3   0   0   0   0   0   1   0   0   1   0  ...   0   0   0   0   0   0   0   \n",
      "4   0   0   2   0   0   2   0   1   1   0  ...   0   0   0   0   0   0   0   \n",
      "\n",
      "   58  59  60  \n",
      "0   0   1 NaN  \n",
      "1   1   1 NaN  \n",
      "2   0   0 NaN  \n",
      "3   0   1 NaN  \n",
      "4   0   0 NaN  \n",
      "\n",
      "[5 rows x 61 columns]\n",
      "576\n"
     ]
    }
   ],
   "source": [
    "import numpy as np\n",
    "import pandas as pd\n",
    "\n",
    "july1=pd.read_csv('new_hop_data/July 01, 2021.txt', header=None, sep='\\t')\n",
    "print(july1.head())\n",
    "\n",
    "#count number of rows\n",
    "print(len(july1.index))\n"
   ]
  },
  {
   "cell_type": "markdown",
   "id": "1a07ff36",
   "metadata": {},
   "source": [
    "The challenge will be to streamline this data into a format that is useable for analyses. All of the seperate data files should be combined into one long-format dataframe. Date will need to be extracted from the file name and put into a column. Cages will need to be seperated based on the order of the rows.  Day and night will need to be designated based on hours that daylights are on and off. 'ALAN' will need to be a binomial variable that tells whether birds are under ALAN or not, based on time of day and day of experient. Below is an example of the desired output. "
   ]
  },
  {
   "cell_type": "code",
   "execution_count": 15,
   "id": "ab8e12c4",
   "metadata": {},
   "outputs": [
    {
     "name": "stdout",
     "output_type": "stream",
     "text": [
      "   Cage  Hour  Minutes  Hops  Phase     Date    treat sex        stage  ALAN\n",
      "0     1     0        1     0  night  12/1/19  Control   m  acclimation     1\n",
      "1     1     1        1     0  night  12/1/19  Control   m  acclimation     1\n",
      "2     1     2        1     0  night  12/1/19  Control   m  acclimation     1\n",
      "3     1     3        1     0  night  12/1/19  Control   m  acclimation     1\n",
      "4     1     4        1     0  night  12/1/19  Control   m  acclimation     1\n",
      "5\n"
     ]
    }
   ],
   "source": [
    "R_example_df=pd.read_csv('ExampleFormat.csv')\n",
    "print(R_example_df.head())\n"
   ]
  },
  {
   "cell_type": "markdown",
   "id": "40bac481",
   "metadata": {},
   "source": [
    "Cassandra also works on this data, but uses a specific program that was designed to analyze circadian rhythm data in flies. This program takes a different format (tab delimited, different date format), but still requires all of the data to be compiled and reorganized. See example below. "
   ]
  },
  {
   "cell_type": "code",
   "execution_count": 13,
   "id": "36cbb4a6",
   "metadata": {},
   "outputs": [
    {
     "name": "stdout",
     "output_type": "stream",
     "text": [
      "   1  July  1.1  1.2   0   0 .1  0 .2  0 .3  0 .4  0 .5  ...  0 .48  0 .49  \\\n",
      "0  1  July    1    1  0.0   0.0   2.0   0.0   0.0   0.0  ...    0.0    0.0   \n",
      "1  1  July    1    1  0.0   0.0   0.0   0.0   0.0   0.0  ...    0.0    1.0   \n",
      "2  1  July    1    1  0.0   0.0   0.0   0.0   0.0   1.0  ...    0.0    0.0   \n",
      "3  1  July    1    1  0.0   0.0   2.0   0.0   0.0   2.0  ...    0.0    0.0   \n",
      "4  1  July    1    1  0.0   1.0   1.0   2.0   2.0   2.0  ...    2.0    3.0   \n",
      "\n",
      "   0 .50  0 .51  0 .52  0 .53  0 .54  0 .55  1 .2  Unnamed: 64  \n",
      "0    0.0    0.0    0.0    0.0    0.0    1.0   1.0          NaN  \n",
      "1    0.0    0.0    0.0    0.0    0.0    0.0   0.0          NaN  \n",
      "2    0.0    0.0    0.0    0.0    0.0    0.0   1.0          NaN  \n",
      "3    0.0    0.0    0.0    0.0    0.0    0.0   0.0          NaN  \n",
      "4    2.0    0.0    0.0    2.0    3.0    2.0   1.0          NaN  \n",
      "\n",
      "[5 rows x 65 columns]\n"
     ]
    }
   ],
   "source": [
    "Fly_example_df=pd.read_csv('fly_data/Monitor01.txt', sep='\\t')\n",
    "print(Fly_example_df.head())"
   ]
  },
  {
   "cell_type": "markdown",
   "id": "caf69600",
   "metadata": {},
   "source": [
    "We will use Python to compile, reorganize, and tidy the data into two useable formats. As an additional component, Cassandra and I will work together practice collaborating on Git Hub using the same data. "
   ]
  }
 ],
 "metadata": {
  "kernelspec": {
   "display_name": "Python 3 (ipykernel)",
   "language": "python",
   "name": "python3"
  },
  "language_info": {
   "codemirror_mode": {
    "name": "ipython",
    "version": 3
   },
   "file_extension": ".py",
   "mimetype": "text/x-python",
   "name": "python",
   "nbconvert_exporter": "python",
   "pygments_lexer": "ipython3",
   "version": "3.8.8"
  }
 },
 "nbformat": 4,
 "nbformat_minor": 5
}
