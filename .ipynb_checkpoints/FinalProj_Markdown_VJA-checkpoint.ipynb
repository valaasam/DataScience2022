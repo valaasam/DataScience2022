{
 "cells": [
  {
   "cell_type": "markdown",
   "id": "10255192",
   "metadata": {},
   "source": [
    "## Background\n",
    "Endogenous circadian clocks exist in all organisms, from cyanobacteria to vertebrates, functioning to synchronize behavior and physiology with the external environment. Light is one of the strongest zeitgebers, or external synchronizing cues, of endogenous circadian rhythms across taxa, synchronizing ciradian rhythms of basic biological processes such as sleep–wake cycles, body temperature, hormone secretion, cardiovascular systems, and metabolism with the natural patterns of sunlight. The invention of artificial light has disrupted natural photoperiodic cues used to entrain these rhythms and has led to consequences for humans and wildlife alike. It is now well documented that exposure to artificial light at night (ALAN) alters behavior, endocrine pathways, metabolism, cardiovascular function, and leads to pathology. Still, it remains unclear downstream effects of ALAN are related to circadian rhythm regulation. Does ALAN alter behavior and physiology and cause long-term pathology through circadian rhythm misalignment, or act on behavior and physiology directly? To effectively mitigate the effects of light pollution, it is important to understand the mechanisms by which exposure to dim, environmentally relevant levels of night-light affect behavior and physiology in diurnal organisms. \n",
    "\n",
    "Birds are a useful diurnal model for answering this question, as the neuroendocrine pathways that transduce light information from sensory systems to downstream processes have been well described and are conserved across vertebrates. In birds, light stimulates non-visual photoreceptors (opsins) in the retina, the pineal gland, and suprachiasmatic nuclei (SCN) of the hypothalamus. Stimulation by light results in the expression of pacemaker genes Clock (Clk) and Brain and muscle Arnt-like protein-1 (Bmal1), which thereafter induces expression of Period (Per) and Cryptochrome (Cry), creating an autoregulatory feedback loop where expression of each gene oscillates in a unique 24-hour rhythm. This central clock in the brain entrains circadian oscillators in peripheral tissues, such as the liver and heart, and affects downstream physiology and behavior by regulating the synthesis and release of melatonin. \n",
    "\n",
    "In this study we link expression of pacemaker genes in brain tissue and melatonin with the behavioral (activity) circadian rhythms under ALAN. We predict that individuals exposed to ALAN for 10 days will have disrupted circadian rhythms of activity, circadian gene expression and plasma melatonin compared to controls. \n",
    "\n",
    "## Data collection\n",
    "All procedures were carried out in accordance with National Institute of Health guidelines and were approved by the University of Nevada, Reno Institutional Animal Care and Use Committee. Twenty-four zebra finches were housed in individual cages and habituated to 10L:14D photoperiod for 4 weeks. Daylights turned on at 07:00 and turned off at 17:00. Night lights turned on at 17:00 and turned off at 07:00 and were provided by a 20cm X 1.5cm 5000K LED strip and standardized at 1.5 lux ±0.01. Active perches within each cage recorded movement on/off of the perch constantly, which is a reliable measure of circadian activity. The perch activity was recorded on a Dell Precision 5810 Tower with an Intel® Xeon® Processor (E5-1620 v3) at 3.5GHz, and an AMD FirePro™ W4100 graphics card. A graphical user interface (GUI) was created in MATLAB to both record and display the activity of the birds via the active perches. The active perches were connected to an optical end-stop so that the downward force of the bird caused the wooden perch to shift down, thus blocking the signal between the emitter and the receiver on the end-stop.  Upon hopping off, the active perch returns to its neutral position. Each end-stop sent a 1 or 0 to the computer depending on whether the bird was on or off the active perch, respectively. Data for all of the active perches were collected every 0.23 seconds (approximately), and totaled for every minute of activity. \n",
    "\n",
    "Data from each day is output into a text file, resulting in one text file per day of experiment.  The text files are named in a terrible string format including spaces and commas and a combination of letters and numbers.\n",
    "\n",
    "e.g. \"July 01, 2021.txt\"\n",
    "\n",
    "Within the file, activity per minute is recorded in long strings of integers, separated by tabs (\\t), and organized in 24 rows of 60 columns (rows corresponding to hours and columns corresponding to minutes). Data for each cage is sequential, therefore 24 rows x 24 cages adds up to 600 rows. The first minute is considered column 0, the last minute (59) is column 59, and so column 60 ends up being empty. "
   ]
  },
  {
   "cell_type": "code",
   "execution_count": 199,
   "id": "dd485122",
   "metadata": {},
   "outputs": [
    {
     "name": "stdout",
     "output_type": "stream",
     "text": [
      "/Users/val/Desktop/hop_data\n"
     ]
    }
   ],
   "source": [
    "import numpy as np\n",
    "import pandas as pd\n",
    "import os \n",
    "import glob\n",
    "from datetime import datetime\n",
    "\n",
    "os.chdir('/Users/val/Desktop/hop_data')\n",
    "print(os.getcwd())\n",
    "\n",
    "\n"
   ]
  },
  {
   "cell_type": "code",
   "execution_count": 200,
   "id": "705a35e8",
   "metadata": {},
   "outputs": [
    {
     "name": "stdout",
     "output_type": "stream",
     "text": [
      "   0   1   2   3   4   5   6   7   8   9   ...  51  52  53  54  55  56  57  \\\n",
      "0   0   0   0   0   0   0   0   0   0   1  ...   0   0   0   0   0   0   0   \n",
      "1   0   0   2   0   0   0   0   0   0   0  ...   0   0   0   0   0   0   0   \n",
      "2   0   0   0   0   0   0   0   1   0   0  ...   0   1   0   0   0   0   0   \n",
      "3   0   0   0   0   0   1   0   0   1   0  ...   0   0   0   0   0   0   0   \n",
      "4   0   0   2   0   0   2   0   1   1   0  ...   0   0   0   0   0   0   0   \n",
      "\n",
      "   58  59  60  \n",
      "0   0   1 NaN  \n",
      "1   1   1 NaN  \n",
      "2   0   0 NaN  \n",
      "3   0   1 NaN  \n",
      "4   0   0 NaN  \n",
      "\n",
      "[5 rows x 61 columns]\n",
      "576\n"
     ]
    }
   ],
   "source": [
    "july1=pd.read_csv('july_samples/July 01, 2021.txt', header=None, sep='\\t')\n",
    "print(july1.head())\n",
    "\n",
    "#count number of rows\n",
    "print(len(july1.index))"
   ]
  },
  {
   "cell_type": "markdown",
   "id": "1a07ff36",
   "metadata": {},
   "source": [
    "The challenge will be to streamline this data into a format that is useable for analyses. All of the seperate data files should be combined into one long-format dataframe. Date will need to be extracted from the file name and put into a column. Cages will need to be seperated based on the order of the rows.  Day and night will need to be designated based on hours that daylights are on and off. 'ALAN' will need to be a binomial variable that tells whether birds are under ALAN or not, based on time of day and day of experient. Below is an example of the desired output. "
   ]
  },
  {
   "cell_type": "code",
   "execution_count": 201,
   "id": "ab8e12c4",
   "metadata": {},
   "outputs": [
    {
     "name": "stdout",
     "output_type": "stream",
     "text": [
      "   Cage  Hour  Minutes  Hops  Phase     Date    treat sex        stage  ALAN\n",
      "0     1     0        1     0  night  12/1/19  Control   m  acclimation     1\n",
      "1     1     1        1     0  night  12/1/19  Control   m  acclimation     1\n",
      "2     1     2        1     0  night  12/1/19  Control   m  acclimation     1\n",
      "3     1     3        1     0  night  12/1/19  Control   m  acclimation     1\n",
      "4     1     4        1     0  night  12/1/19  Control   m  acclimation     1\n"
     ]
    }
   ],
   "source": [
    "R_example_df=pd.read_csv('ExampleFormat.csv')\n",
    "print(R_example_df.head())\n"
   ]
  },
  {
   "cell_type": "markdown",
   "id": "40bac481",
   "metadata": {},
   "source": [
    "Cassandra also works on this data, but uses a specific program that was designed to analyze circadian rhythm data in flies. This program takes a different format (tab delimited, different date format), but still requires all of the data to be compiled and reorganized. See example below. "
   ]
  },
  {
   "cell_type": "code",
   "execution_count": 206,
   "id": "36cbb4a6",
   "metadata": {},
   "outputs": [
    {
     "name": "stdout",
     "output_type": "stream",
     "text": [
      "   61355  20 Sep 19  09:02:00  1  0  0.1  0.2  0.3  0.4  0.5  ...  2.5  1.4  \\\n",
      "0  61356  20 Sep 19  09:03:00  1  0    0    0    0    0    0  ...    1    0   \n",
      "1  61357  20 Sep 19  09:04:00  1  0    0    0    0    0    0  ...    0    1   \n",
      "2  61358  20 Sep 19  09:05:00  1  0    0    0    0    0    0  ...    1    2   \n",
      "3  61359  20 Sep 19  09:06:00  1  0    0    0    0    0    0  ...    0    0   \n",
      "4  61360  20 Sep 19  09:07:00  1  0    0    0    0    0    0  ...    0    0   \n",
      "\n",
      "   0.17  2.6  2.7  2.8  0.18  0.19  0.20  1.5  \n",
      "0     0    1    0    4     0     0     1    0  \n",
      "1     0    1    1    3     0     0     6    1  \n",
      "2     0    1    0    5     0     0     0    1  \n",
      "3     0    0    2    0     0     0     3    0  \n",
      "4     0    1    0    0     0     0     1    0  \n",
      "\n",
      "[5 rows x 42 columns]\n"
     ]
    }
   ],
   "source": [
    "Fly_example_df = pd.read_csv('fly_data/Monitor40.txt', sep='\\t')\n",
    "print(Fly_example_df.head())"
   ]
  },
  {
   "cell_type": "markdown",
   "id": "caf69600",
   "metadata": {},
   "source": [
    "We will use Python to compile, reorganize, and tidy the data into two useable formats. As an additional component, Cassandra and I will work together practice collaborating on Git Hub using the same data. "
   ]
  },
  {
   "cell_type": "markdown",
   "id": "0193f670",
   "metadata": {},
   "source": [
    "## Methods\n",
    "#### (meta-data outline)\n"
   ]
  },
  {
   "cell_type": "markdown",
   "id": "9df9451d",
   "metadata": {},
   "source": [
    "Goals:\n",
    "\n",
    "For each file... \n",
    "1. Open file\n",
    "2. Create column for hours, divide in 24 rows of 24 hours\n",
    "3. Divide data in file into 24 birds, label as each bird\n",
    "4. Transform data long, so that \"Hour\" and \"Minute\" are each one column\n",
    "5. Create binomial (0/1) for whether bird was active each minute \n",
    "6. Add phase (night/day) depending on hour\n",
    "7. Add a date to all data (pulling date from original file name, but transformng it into a 'good' date, e.g. Year-Month-Day)\n",
    "8. Separate date into 3 columns for year, month, day\n",
    "9. Save file as new file\n",
    "\n",
    "Then...\n",
    "10. Loop through files in folder and perform same program on all\n",
    "11. Combine all new files into one master dataset"
   ]
  },
  {
   "cell_type": "code",
   "execution_count": 207,
   "id": "56737e48",
   "metadata": {},
   "outputs": [
    {
     "data": {
      "text/plain": [
       "'/Users/val/Desktop/hop_data'"
      ]
     },
     "execution_count": 207,
     "metadata": {},
     "output_type": "execute_result"
    }
   ],
   "source": [
    "#check i'm still in the right directory\n",
    "pwd"
   ]
  },
  {
   "cell_type": "code",
   "execution_count": 208,
   "id": "d7e2646e",
   "metadata": {},
   "outputs": [
    {
     "name": "stdout",
     "output_type": "stream",
     "text": [
      "    0   1   2   3   4   5   6   7   8   9   ...  51  52  53  54  55  56  57  \\\n",
      "0    0   0   0   0   0   0   0   0   0   1  ...   0   0   0   0   0   0   0   \n",
      "1    0   0   2   0   0   0   0   0   0   0  ...   0   0   0   0   0   0   0   \n",
      "2    0   0   0   0   0   0   0   1   0   0  ...   0   1   0   0   0   0   0   \n",
      "3    0   0   0   0   0   1   0   0   1   0  ...   0   0   0   0   0   0   0   \n",
      "4    0   0   2   0   0   2   0   1   1   0  ...   0   0   0   0   0   0   0   \n",
      "5    0   1   1   2   2   2   2   2   2   2  ...   2   3   2   0   0   2   3   \n",
      "6    1   3   4   4   2   1   2   4   7   4  ...   1   0   0   1   1   1   5   \n",
      "7    2   2   0   0   0   0   0   0   0   1  ...   0   1   0   0   2   0   1   \n",
      "8    1   0   0   2   0   0   0   0   1   0  ...   1   3   2   1   2   1   1   \n",
      "9    0   0   0   1   1   1   1   1   1   1  ...   0   0   0   0   0   0   0   \n",
      "10   1   1   0   0   0   0   0   0   0   0  ...   0   0   0   0   1   0   0   \n",
      "11   1   0   0   0   0   0   0   0   0   0  ...   0   0   0   0   0   0   0   \n",
      "12   0   0   0   0   0   0   0   0   0   0  ...   0   0   0   0   0   0   0   \n",
      "13   0   0   0   0   0   0   0   0   0   0  ...   0   0   0   0   0   0   0   \n",
      "14   0   0   0   0   0   0   0   0   0   0  ...   0   0   0   0   0   0   0   \n",
      "15   0   0   0   0   0   0   0   0   0   0  ...   0   0   0   0   0   0   0   \n",
      "16   0   0   0   0   0   0   0   0   0   0  ...   0   0   0   0   0   0   0   \n",
      "17   0   0   0   0   0   0   0   0   0   0  ...   0   0   0   0   0   0   0   \n",
      "18   0   0   0   0   0   0   0   0   0   0  ...   0   0   0   0   0   0   0   \n",
      "19   0   0   0   0   0   0   0   0   0   0  ...   0   0   0   0   0   0   0   \n",
      "20   0   0   0   0   0   0   0   0   0   0  ...   0   0   0   0   0   0   0   \n",
      "21   0   0   0   0   0   0   0   0   0   0  ...   0   0   0   0   0   0   0   \n",
      "22   0   0   0   0   0   0   0   0   0   0  ...   0   0   0   0   0   0   0   \n",
      "23   0   0   0   0   0   0   0   0   0   0  ...   0   0   0   0   0   0   0   \n",
      "\n",
      "    58  59  60  \n",
      "0    0   1 NaN  \n",
      "1    1   1 NaN  \n",
      "2    0   0 NaN  \n",
      "3    0   1 NaN  \n",
      "4    0   0 NaN  \n",
      "5    2   1 NaN  \n",
      "6    1   3 NaN  \n",
      "7    0   0 NaN  \n",
      "8    0   0 NaN  \n",
      "9    0   0 NaN  \n",
      "10   0   0 NaN  \n",
      "11   0   1 NaN  \n",
      "12   0   0 NaN  \n",
      "13   0   0 NaN  \n",
      "14   0   0 NaN  \n",
      "15   0   0 NaN  \n",
      "16   0   0 NaN  \n",
      "17   0   0 NaN  \n",
      "18   0   0 NaN  \n",
      "19   0   0 NaN  \n",
      "20   0   0 NaN  \n",
      "21   0   0 NaN  \n",
      "22   0   0 NaN  \n",
      "23   0   0 NaN  \n",
      "\n",
      "[24 rows x 61 columns]\n"
     ]
    },
    {
     "data": {
      "text/plain": [
       "576"
      ]
     },
     "execution_count": 208,
     "metadata": {},
     "output_type": "execute_result"
    }
   ],
   "source": [
    "#### Step 1.  \n",
    "\n",
    "# Data rows are tab-delimited. Upload data and divide by tabs\n",
    "df=pd.read_csv('new_hop_data/July 01, 2021.txt', header=None, sep='\\t')\n",
    "\n",
    "# (widen internet browser to get all columns!)\n",
    "print(df.head(24))\n",
    "\n",
    "#count number of rows\n",
    "len(df.index)\n"
   ]
  },
  {
   "cell_type": "code",
   "execution_count": 213,
   "id": "73e8decd",
   "metadata": {},
   "outputs": [
    {
     "data": {
      "text/html": [
       "<div>\n",
       "<style scoped>\n",
       "    .dataframe tbody tr th:only-of-type {\n",
       "        vertical-align: middle;\n",
       "    }\n",
       "\n",
       "    .dataframe tbody tr th {\n",
       "        vertical-align: top;\n",
       "    }\n",
       "\n",
       "    .dataframe thead th {\n",
       "        text-align: right;\n",
       "    }\n",
       "</style>\n",
       "<table border=\"1\" class=\"dataframe\">\n",
       "  <thead>\n",
       "    <tr style=\"text-align: right;\">\n",
       "      <th></th>\n",
       "      <th>55</th>\n",
       "      <th>56</th>\n",
       "      <th>57</th>\n",
       "      <th>58</th>\n",
       "      <th>59</th>\n",
       "    </tr>\n",
       "  </thead>\n",
       "  <tbody>\n",
       "    <tr>\n",
       "      <th>0</th>\n",
       "      <td>0</td>\n",
       "      <td>0</td>\n",
       "      <td>0</td>\n",
       "      <td>0</td>\n",
       "      <td>1</td>\n",
       "    </tr>\n",
       "    <tr>\n",
       "      <th>1</th>\n",
       "      <td>0</td>\n",
       "      <td>0</td>\n",
       "      <td>0</td>\n",
       "      <td>1</td>\n",
       "      <td>1</td>\n",
       "    </tr>\n",
       "    <tr>\n",
       "      <th>2</th>\n",
       "      <td>0</td>\n",
       "      <td>0</td>\n",
       "      <td>0</td>\n",
       "      <td>0</td>\n",
       "      <td>0</td>\n",
       "    </tr>\n",
       "    <tr>\n",
       "      <th>3</th>\n",
       "      <td>0</td>\n",
       "      <td>0</td>\n",
       "      <td>0</td>\n",
       "      <td>0</td>\n",
       "      <td>1</td>\n",
       "    </tr>\n",
       "    <tr>\n",
       "      <th>4</th>\n",
       "      <td>0</td>\n",
       "      <td>0</td>\n",
       "      <td>0</td>\n",
       "      <td>0</td>\n",
       "      <td>0</td>\n",
       "    </tr>\n",
       "    <tr>\n",
       "      <th>...</th>\n",
       "      <td>...</td>\n",
       "      <td>...</td>\n",
       "      <td>...</td>\n",
       "      <td>...</td>\n",
       "      <td>...</td>\n",
       "    </tr>\n",
       "    <tr>\n",
       "      <th>571</th>\n",
       "      <td>0</td>\n",
       "      <td>0</td>\n",
       "      <td>0</td>\n",
       "      <td>0</td>\n",
       "      <td>0</td>\n",
       "    </tr>\n",
       "    <tr>\n",
       "      <th>572</th>\n",
       "      <td>0</td>\n",
       "      <td>0</td>\n",
       "      <td>0</td>\n",
       "      <td>0</td>\n",
       "      <td>0</td>\n",
       "    </tr>\n",
       "    <tr>\n",
       "      <th>573</th>\n",
       "      <td>0</td>\n",
       "      <td>0</td>\n",
       "      <td>0</td>\n",
       "      <td>0</td>\n",
       "      <td>0</td>\n",
       "    </tr>\n",
       "    <tr>\n",
       "      <th>574</th>\n",
       "      <td>0</td>\n",
       "      <td>0</td>\n",
       "      <td>0</td>\n",
       "      <td>0</td>\n",
       "      <td>0</td>\n",
       "    </tr>\n",
       "    <tr>\n",
       "      <th>575</th>\n",
       "      <td>0</td>\n",
       "      <td>0</td>\n",
       "      <td>0</td>\n",
       "      <td>0</td>\n",
       "      <td>0</td>\n",
       "    </tr>\n",
       "  </tbody>\n",
       "</table>\n",
       "<p>576 rows × 5 columns</p>\n",
       "</div>"
      ],
      "text/plain": [
       "     55  56  57  58  59\n",
       "0     0   0   0   0   1\n",
       "1     0   0   0   1   1\n",
       "2     0   0   0   0   0\n",
       "3     0   0   0   0   1\n",
       "4     0   0   0   0   0\n",
       "..   ..  ..  ..  ..  ..\n",
       "571   0   0   0   0   0\n",
       "572   0   0   0   0   0\n",
       "573   0   0   0   0   0\n",
       "574   0   0   0   0   0\n",
       "575   0   0   0   0   0\n",
       "\n",
       "[576 rows x 5 columns]"
      ]
     },
     "execution_count": 213,
     "metadata": {},
     "output_type": "execute_result"
    }
   ],
   "source": [
    "# the last column is all NAs! A byproduct of the Matlab program \n",
    "# So, we need to remove the last column\n",
    "df = df.dropna(axis=1, how='all')\n",
    "df.iloc[: , -5:]"
   ]
  },
  {
   "cell_type": "code",
   "execution_count": 212,
   "id": "9f288340",
   "metadata": {},
   "outputs": [
    {
     "ename": "ValueError",
     "evalue": "cannot insert hour, already exists",
     "output_type": "error",
     "traceback": [
      "\u001b[0;31m---------------------------------------------------------------------------\u001b[0m",
      "\u001b[0;31mValueError\u001b[0m                                Traceback (most recent call last)",
      "\u001b[0;32m/var/folders/33/fyjdbtnj4hx64vhzr5fc84gh0000gn/T/ipykernel_2714/582051839.py\u001b[0m in \u001b[0;36m<module>\u001b[0;34m\u001b[0m\n\u001b[1;32m      4\u001b[0m \u001b[0;34m\u001b[0m\u001b[0m\n\u001b[1;32m      5\u001b[0m \u001b[0mHours_list\u001b[0m \u001b[0;34m=\u001b[0m \u001b[0mlist\u001b[0m\u001b[0;34m(\u001b[0m\u001b[0mrange\u001b[0m\u001b[0;34m(\u001b[0m\u001b[0;36m24\u001b[0m\u001b[0;34m)\u001b[0m\u001b[0;34m)\u001b[0m\u001b[0;34m\u001b[0m\u001b[0;34m\u001b[0m\u001b[0m\n\u001b[0;32m----> 6\u001b[0;31m df.insert(loc=0,\n\u001b[0m\u001b[1;32m      7\u001b[0m           \u001b[0mcolumn\u001b[0m\u001b[0;34m=\u001b[0m\u001b[0;34m'hour'\u001b[0m\u001b[0;34m,\u001b[0m\u001b[0;34m\u001b[0m\u001b[0;34m\u001b[0m\u001b[0m\n\u001b[1;32m      8\u001b[0m           value=Hours_list*24)\n",
      "\u001b[0;32m~/opt/anaconda3/lib/python3.8/site-packages/pandas/core/frame.py\u001b[0m in \u001b[0;36minsert\u001b[0;34m(self, loc, column, value, allow_duplicates)\u001b[0m\n\u001b[1;32m   4412\u001b[0m         \u001b[0;32mif\u001b[0m \u001b[0;32mnot\u001b[0m \u001b[0mallow_duplicates\u001b[0m \u001b[0;32mand\u001b[0m \u001b[0mcolumn\u001b[0m \u001b[0;32min\u001b[0m \u001b[0mself\u001b[0m\u001b[0;34m.\u001b[0m\u001b[0mcolumns\u001b[0m\u001b[0;34m:\u001b[0m\u001b[0;34m\u001b[0m\u001b[0;34m\u001b[0m\u001b[0m\n\u001b[1;32m   4413\u001b[0m             \u001b[0;31m# Should this be a different kind of error??\u001b[0m\u001b[0;34m\u001b[0m\u001b[0;34m\u001b[0m\u001b[0;34m\u001b[0m\u001b[0m\n\u001b[0;32m-> 4414\u001b[0;31m             \u001b[0;32mraise\u001b[0m \u001b[0mValueError\u001b[0m\u001b[0;34m(\u001b[0m\u001b[0;34mf\"cannot insert {column}, already exists\"\u001b[0m\u001b[0;34m)\u001b[0m\u001b[0;34m\u001b[0m\u001b[0;34m\u001b[0m\u001b[0m\n\u001b[0m\u001b[1;32m   4415\u001b[0m         \u001b[0;32mif\u001b[0m \u001b[0;32mnot\u001b[0m \u001b[0misinstance\u001b[0m\u001b[0;34m(\u001b[0m\u001b[0mloc\u001b[0m\u001b[0;34m,\u001b[0m \u001b[0mint\u001b[0m\u001b[0;34m)\u001b[0m\u001b[0;34m:\u001b[0m\u001b[0;34m\u001b[0m\u001b[0;34m\u001b[0m\u001b[0m\n\u001b[1;32m   4416\u001b[0m             \u001b[0;32mraise\u001b[0m \u001b[0mTypeError\u001b[0m\u001b[0;34m(\u001b[0m\u001b[0;34m\"loc must be int\"\u001b[0m\u001b[0;34m)\u001b[0m\u001b[0;34m\u001b[0m\u001b[0;34m\u001b[0m\u001b[0m\n",
      "\u001b[0;31mValueError\u001b[0m: cannot insert hour, already exists"
     ]
    }
   ],
   "source": [
    "#### STEP 2. \n",
    "#  There are 576 rows, which corresponds to 24 birds x 24 hours. \n",
    "#  Assign every 24 rows to an integer \n",
    "\n",
    "Hours_list = list(range(24))\n",
    "df.insert(loc=0,\n",
    "          column='hour',\n",
    "          value=Hours_list*24)"
   ]
  },
  {
   "cell_type": "code",
   "execution_count": 214,
   "id": "c13621ce",
   "metadata": {},
   "outputs": [
    {
     "name": "stdout",
     "output_type": "stream",
     "text": [
      "[ 1  1  1  1  1  1  1  1  1  1  1  1  1  1  1  1  1  1  1  1  1  1  1  1\n",
      "  2  2  2  2  2  2  2  2  2  2  2  2  2  2  2  2  2  2  2  2  2  2  2  2\n",
      "  3  3  3  3  3  3  3  3  3  3  3  3  3  3  3  3  3  3  3  3  3  3  3  3\n",
      "  4  4  4  4  4  4  4  4  4  4  4  4  4  4  4  4  4  4  4  4  4  4  4  4\n",
      "  5  5  5  5  5  5  5  5  5  5  5  5  5  5  5  5  5  5  5  5  5  5  5  5\n",
      "  6  6  6  6  6  6  6  6  6  6  6  6  6  6  6  6  6  6  6  6  6  6  6  6\n",
      "  7  7  7  7  7  7  7  7  7  7  7  7  7  7  7  7  7  7  7  7  7  7  7  7\n",
      "  8  8  8  8  8  8  8  8  8  8  8  8  8  8  8  8  8  8  8  8  8  8  8  8\n",
      "  9  9  9  9  9  9  9  9  9  9  9  9  9  9  9  9  9  9  9  9  9  9  9  9\n",
      " 10 10 10 10 10 10 10 10 10 10 10 10 10 10 10 10 10 10 10 10 10 10 10 10\n",
      " 11 11 11 11 11 11 11 11 11 11 11 11 11 11 11 11 11 11 11 11 11 11 11 11\n",
      " 12 12 12 12 12 12 12 12 12 12 12 12 12 12 12 12 12 12 12 12 12 12 12 12\n",
      " 13 13 13 13 13 13 13 13 13 13 13 13 13 13 13 13 13 13 13 13 13 13 13 13\n",
      " 14 14 14 14 14 14 14 14 14 14 14 14 14 14 14 14 14 14 14 14 14 14 14 14\n",
      " 15 15 15 15 15 15 15 15 15 15 15 15 15 15 15 15 15 15 15 15 15 15 15 15\n",
      " 16 16 16 16 16 16 16 16 16 16 16 16 16 16 16 16 16 16 16 16 16 16 16 16\n",
      " 17 17 17 17 17 17 17 17 17 17 17 17 17 17 17 17 17 17 17 17 17 17 17 17\n",
      " 18 18 18 18 18 18 18 18 18 18 18 18 18 18 18 18 18 18 18 18 18 18 18 18\n",
      " 19 19 19 19 19 19 19 19 19 19 19 19 19 19 19 19 19 19 19 19 19 19 19 19\n",
      " 20 20 20 20 20 20 20 20 20 20 20 20 20 20 20 20 20 20 20 20 20 20 20 20\n",
      " 21 21 21 21 21 21 21 21 21 21 21 21 21 21 21 21 21 21 21 21 21 21 21 21\n",
      " 22 22 22 22 22 22 22 22 22 22 22 22 22 22 22 22 22 22 22 22 22 22 22 22\n",
      " 23 23 23 23 23 23 23 23 23 23 23 23 23 23 23 23 23 23 23 23 23 23 23 23\n",
      " 24 24 24 24 24 24 24 24 24 24 24 24 24 24 24 24 24 24 24 24 24 24 24 24]\n"
     ]
    }
   ],
   "source": [
    "#### Step 3.  \n",
    "\n",
    "# Add bird ID to each 24 rows\n",
    "\n",
    "BirdIDs = list(range(1,25,1))\n",
    "Birds_list = np.repeat(BirdIDs,24)\n",
    "len(Birds_list)  #check that this created a list of 576 - 24 birds x 24 hours\n",
    "print(Birds_list)"
   ]
  },
  {
   "cell_type": "code",
   "execution_count": 215,
   "id": "a60589ed",
   "metadata": {},
   "outputs": [],
   "source": [
    "# Add bird ID to each row \n",
    "df.insert(loc=1,\n",
    "          column='cage',\n",
    "          value=Birds_list)"
   ]
  },
  {
   "cell_type": "code",
   "execution_count": 216,
   "id": "8c76485c",
   "metadata": {},
   "outputs": [
    {
     "name": "stdout",
     "output_type": "stream",
     "text": [
      "    hour  cage  0  1  2  3  4  5  6  7  ...  50  51  52  53  54  55  56  57  \\\n",
      "0      0     1  0  0  0  0  0  0  0  0  ...   0   0   0   0   0   0   0   0   \n",
      "1      1     1  0  0  2  0  0  0  0  0  ...   0   0   0   0   0   0   0   0   \n",
      "2      2     1  0  0  0  0  0  0  0  1  ...   0   0   1   0   0   0   0   0   \n",
      "3      3     1  0  0  0  0  0  1  0  0  ...   0   0   0   0   0   0   0   0   \n",
      "4      4     1  0  0  2  0  0  2  0  1  ...   2   0   0   0   0   0   0   0   \n",
      "..   ...   ... .. .. .. .. .. .. .. ..  ...  ..  ..  ..  ..  ..  ..  ..  ..   \n",
      "95    23     4  0  0  0  0  0  0  0  0  ...   0   0   0   0   0   0   0   0   \n",
      "96     0     5  0  0  0  0  0  0  0  0  ...   0   0   0   0   0   0   0   0   \n",
      "97     1     5  0  0  0  0  0  0  0  0  ...   0   0   0   0   0   0   0   0   \n",
      "98     2     5  0  0  0  0  0  0  0  0  ...   0   0   0   0   0   0   0   0   \n",
      "99     3     5  0  0  0  0  0  0  0  0  ...   0   0   0   0   0   0   0   0   \n",
      "\n",
      "    58  59  \n",
      "0    0   1  \n",
      "1    1   1  \n",
      "2    0   0  \n",
      "3    0   1  \n",
      "4    0   0  \n",
      "..  ..  ..  \n",
      "95   0   0  \n",
      "96   0   0  \n",
      "97   0   0  \n",
      "98   0   0  \n",
      "99   0   0  \n",
      "\n",
      "[100 rows x 62 columns]\n",
      "YAY!\n"
     ]
    }
   ],
   "source": [
    "# Test if it worked, celebrate\n",
    "print(df.head(100))\n",
    "print(\"YAY!\")"
   ]
  },
  {
   "cell_type": "code",
   "execution_count": 217,
   "id": "4e7e0753",
   "metadata": {},
   "outputs": [],
   "source": [
    "# Step 4. Wide to long\n",
    "\n",
    "df_long = pd.melt(df, id_vars=['cage','hour'], var_name='minute', value_name='hops')"
   ]
  },
  {
   "cell_type": "code",
   "execution_count": 218,
   "id": "1038e6e0",
   "metadata": {},
   "outputs": [
    {
     "name": "stdout",
     "output_type": "stream",
     "text": [
      "   cage  hour minute  hops\n",
      "0     1     0      0     0\n",
      "1     1     1      0     0\n",
      "2     1     2      0     0\n",
      "3     1     3      0     0\n",
      "4     1     4      0     0\n",
      "5     1     5      0     0\n",
      "6     1     6      0     1\n",
      "7     1     7      0     2\n",
      "8     1     8      0     1\n",
      "9     1     9      0     0\n"
     ]
    }
   ],
   "source": [
    "# Check that it worked?\n",
    "print(df_long.head(10))"
   ]
  },
  {
   "cell_type": "code",
   "execution_count": 219,
   "id": "e87e7bc2",
   "metadata": {},
   "outputs": [],
   "source": [
    "# Step 5. Add binomial\n",
    "\n",
    "df_long['active'] = np.where((df_long.hops > 0), 1, 0)"
   ]
  },
  {
   "cell_type": "code",
   "execution_count": 220,
   "id": "f0726a84",
   "metadata": {},
   "outputs": [],
   "source": [
    "# Step 6. Add phase (night/day) \n",
    "\n",
    "df_long['phase'] = np.where((df_long.hour > 11), \"night\", \"day\")"
   ]
  },
  {
   "cell_type": "code",
   "execution_count": 221,
   "id": "752a211f",
   "metadata": {},
   "outputs": [
    {
     "name": "stdout",
     "output_type": "stream",
     "text": [
      "    cage  hour minute  hops  active  phase\n",
      "0      1     0      0     0       0    day\n",
      "1      1     1      0     0       0    day\n",
      "2      1     2      0     0       0    day\n",
      "3      1     3      0     0       0    day\n",
      "4      1     4      0     0       0    day\n",
      "5      1     5      0     0       0    day\n",
      "6      1     6      0     1       1    day\n",
      "7      1     7      0     2       1    day\n",
      "8      1     8      0     1       1    day\n",
      "9      1     9      0     0       0    day\n",
      "10     1    10      0     1       1    day\n",
      "11     1    11      0     1       1    day\n",
      "12     1    12      0     0       0  night\n",
      "13     1    13      0     0       0  night\n",
      "14     1    14      0     0       0  night\n",
      "15     1    15      0     0       0  night\n",
      "16     1    16      0     0       0  night\n",
      "17     1    17      0     0       0  night\n",
      "18     1    18      0     0       0  night\n",
      "19     1    19      0     0       0  night\n",
      "20     1    20      0     0       0  night\n",
      "21     1    21      0     0       0  night\n",
      "22     1    22      0     0       0  night\n",
      "23     1    23      0     0       0  night\n"
     ]
    }
   ],
   "source": [
    "# Check that it worked?\n",
    "print(df_long.head(24))"
   ]
  },
  {
   "cell_type": "code",
   "execution_count": 223,
   "id": "acae32ce",
   "metadata": {},
   "outputs": [
    {
     "ename": "SyntaxError",
     "evalue": "invalid syntax (3968979540.py, line 18)",
     "output_type": "error",
     "traceback": [
      "\u001b[0;36m  File \u001b[0;32m\"/var/folders/33/fyjdbtnj4hx64vhzr5fc84gh0000gn/T/ipykernel_2714/3968979540.py\"\u001b[0;36m, line \u001b[0;32m18\u001b[0m\n\u001b[0;31m    folder = os.fsencode(path)\u001b[0m\n\u001b[0m    ^\u001b[0m\n\u001b[0;31mSyntaxError\u001b[0m\u001b[0;31m:\u001b[0m invalid syntax\n"
     ]
    }
   ],
   "source": [
    "#### Step 7... and all the rest!\n",
    "\n",
    "# Looping through files and extracting date\n",
    "# starting my script with the following should loop through files in a given directory\n",
    "# It will extract the date (filename) and read the file in order to do all above steps\n",
    "\n",
    "# (dont actually run this, it's incomplete)\n",
    "\n",
    "#!/usr/bin/env python3\n",
    "\n",
    "import os\n",
    "import glob\n",
    "import numpy as np\n",
    "import pandas as pd\n",
    "\n",
    "path = input(\"type path for directory, no quotes (hint: /Users/val/Desktop/hop_data/july_samples): \"\n",
    "\n",
    "folder = os.fsencode(path)\n",
    "\n",
    "all_files = glob.glob(os.path.join(path, \"*.txt\"))\n",
    "\n",
    "for file in all_files:\n",
    "    date = os.path.basename(file)  # this pulls the name of the file (which is the date)\n",
    "    df_test=pd.read_csv(file, header=None, sep='\\t') # this is what will replace my original step 1\n",
    "    # change df_test to df and do all the above code\n",
    "             \n",
    "    print(date)\n",
    "    print(df_test.head(5))"
   ]
  },
  {
   "cell_type": "code",
   "execution_count": 225,
   "id": "a82d974a",
   "metadata": {},
   "outputs": [
    {
     "name": "stdout",
     "output_type": "stream",
     "text": [
      "July_03_2021\n"
     ]
    }
   ],
   "source": [
    "# Still, date format is 'July 03, 2021.txt', so we need to fix this\n",
    "# Once I have extracted the date, the following code will re-format it\n",
    "# need to import 'datetime'\n",
    "    \n",
    "from datetime import datetime\n",
    "\n",
    "date = \"July 03, 2021.txt\"\n",
    "\n",
    "newdate = date.strip(\".txt\")\n",
    "newdate = newdate.replace(\",\",\"\")\n",
    "newdate = newdate.replace(\" \", \"_\")\n",
    "print(newdate)\n",
    "#now reads 'July_03_2021'\n",
    "\n",
    "newdate = datetime.strptime(newdate, '%B_%d_%Y')\n",
    "#now reads 2021-07-03 !!!\n",
    "    "
   ]
  },
  {
   "cell_type": "code",
   "execution_count": 226,
   "id": "0c583186",
   "metadata": {},
   "outputs": [],
   "source": [
    "# now instead of printing the date, we want to use it and put it in a new column\n",
    "# so will add this to the end of the loop\n",
    "df_long['date'] = newdate"
   ]
  },
  {
   "cell_type": "code",
   "execution_count": 227,
   "id": "b0df1ebc",
   "metadata": {},
   "outputs": [
    {
     "data": {
      "text/html": [
       "<div>\n",
       "<style scoped>\n",
       "    .dataframe tbody tr th:only-of-type {\n",
       "        vertical-align: middle;\n",
       "    }\n",
       "\n",
       "    .dataframe tbody tr th {\n",
       "        vertical-align: top;\n",
       "    }\n",
       "\n",
       "    .dataframe thead th {\n",
       "        text-align: right;\n",
       "    }\n",
       "</style>\n",
       "<table border=\"1\" class=\"dataframe\">\n",
       "  <thead>\n",
       "    <tr style=\"text-align: right;\">\n",
       "      <th></th>\n",
       "      <th>cage</th>\n",
       "      <th>hour</th>\n",
       "      <th>minute</th>\n",
       "      <th>hops</th>\n",
       "      <th>active</th>\n",
       "      <th>phase</th>\n",
       "      <th>date</th>\n",
       "    </tr>\n",
       "  </thead>\n",
       "  <tbody>\n",
       "    <tr>\n",
       "      <th>0</th>\n",
       "      <td>1</td>\n",
       "      <td>0</td>\n",
       "      <td>0</td>\n",
       "      <td>0</td>\n",
       "      <td>0</td>\n",
       "      <td>day</td>\n",
       "      <td>2021-07-03</td>\n",
       "    </tr>\n",
       "    <tr>\n",
       "      <th>1</th>\n",
       "      <td>1</td>\n",
       "      <td>1</td>\n",
       "      <td>0</td>\n",
       "      <td>0</td>\n",
       "      <td>0</td>\n",
       "      <td>day</td>\n",
       "      <td>2021-07-03</td>\n",
       "    </tr>\n",
       "    <tr>\n",
       "      <th>2</th>\n",
       "      <td>1</td>\n",
       "      <td>2</td>\n",
       "      <td>0</td>\n",
       "      <td>0</td>\n",
       "      <td>0</td>\n",
       "      <td>day</td>\n",
       "      <td>2021-07-03</td>\n",
       "    </tr>\n",
       "    <tr>\n",
       "      <th>3</th>\n",
       "      <td>1</td>\n",
       "      <td>3</td>\n",
       "      <td>0</td>\n",
       "      <td>0</td>\n",
       "      <td>0</td>\n",
       "      <td>day</td>\n",
       "      <td>2021-07-03</td>\n",
       "    </tr>\n",
       "    <tr>\n",
       "      <th>4</th>\n",
       "      <td>1</td>\n",
       "      <td>4</td>\n",
       "      <td>0</td>\n",
       "      <td>0</td>\n",
       "      <td>0</td>\n",
       "      <td>day</td>\n",
       "      <td>2021-07-03</td>\n",
       "    </tr>\n",
       "  </tbody>\n",
       "</table>\n",
       "</div>"
      ],
      "text/plain": [
       "   cage  hour minute  hops  active phase       date\n",
       "0     1     0      0     0       0   day 2021-07-03\n",
       "1     1     1      0     0       0   day 2021-07-03\n",
       "2     1     2      0     0       0   day 2021-07-03\n",
       "3     1     3      0     0       0   day 2021-07-03\n",
       "4     1     4      0     0       0   day 2021-07-03"
      ]
     },
     "execution_count": 227,
     "metadata": {},
     "output_type": "execute_result"
    }
   ],
   "source": [
    "df_long.head()"
   ]
  },
  {
   "cell_type": "code",
   "execution_count": 228,
   "id": "202ecee1",
   "metadata": {},
   "outputs": [],
   "source": [
    "# As a final data organization step, I want to separate the date into 3 separate columns \n",
    "df_long['year']= df_long['date'].dt.year\n",
    "df_long['month']= df_long['date'].dt.month\n",
    "df_long['day']= df_long['date'].dt.day\n",
    "\n"
   ]
  },
  {
   "cell_type": "code",
   "execution_count": 229,
   "id": "023c8100",
   "metadata": {},
   "outputs": [
    {
     "data": {
      "text/html": [
       "<div>\n",
       "<style scoped>\n",
       "    .dataframe tbody tr th:only-of-type {\n",
       "        vertical-align: middle;\n",
       "    }\n",
       "\n",
       "    .dataframe tbody tr th {\n",
       "        vertical-align: top;\n",
       "    }\n",
       "\n",
       "    .dataframe thead th {\n",
       "        text-align: right;\n",
       "    }\n",
       "</style>\n",
       "<table border=\"1\" class=\"dataframe\">\n",
       "  <thead>\n",
       "    <tr style=\"text-align: right;\">\n",
       "      <th></th>\n",
       "      <th>cage</th>\n",
       "      <th>hour</th>\n",
       "      <th>minute</th>\n",
       "      <th>hops</th>\n",
       "      <th>active</th>\n",
       "      <th>phase</th>\n",
       "      <th>date</th>\n",
       "      <th>year</th>\n",
       "      <th>month</th>\n",
       "      <th>day</th>\n",
       "    </tr>\n",
       "  </thead>\n",
       "  <tbody>\n",
       "    <tr>\n",
       "      <th>0</th>\n",
       "      <td>1</td>\n",
       "      <td>0</td>\n",
       "      <td>0</td>\n",
       "      <td>0</td>\n",
       "      <td>0</td>\n",
       "      <td>day</td>\n",
       "      <td>2021-07-03</td>\n",
       "      <td>2021</td>\n",
       "      <td>7</td>\n",
       "      <td>3</td>\n",
       "    </tr>\n",
       "    <tr>\n",
       "      <th>1</th>\n",
       "      <td>1</td>\n",
       "      <td>1</td>\n",
       "      <td>0</td>\n",
       "      <td>0</td>\n",
       "      <td>0</td>\n",
       "      <td>day</td>\n",
       "      <td>2021-07-03</td>\n",
       "      <td>2021</td>\n",
       "      <td>7</td>\n",
       "      <td>3</td>\n",
       "    </tr>\n",
       "    <tr>\n",
       "      <th>2</th>\n",
       "      <td>1</td>\n",
       "      <td>2</td>\n",
       "      <td>0</td>\n",
       "      <td>0</td>\n",
       "      <td>0</td>\n",
       "      <td>day</td>\n",
       "      <td>2021-07-03</td>\n",
       "      <td>2021</td>\n",
       "      <td>7</td>\n",
       "      <td>3</td>\n",
       "    </tr>\n",
       "    <tr>\n",
       "      <th>3</th>\n",
       "      <td>1</td>\n",
       "      <td>3</td>\n",
       "      <td>0</td>\n",
       "      <td>0</td>\n",
       "      <td>0</td>\n",
       "      <td>day</td>\n",
       "      <td>2021-07-03</td>\n",
       "      <td>2021</td>\n",
       "      <td>7</td>\n",
       "      <td>3</td>\n",
       "    </tr>\n",
       "    <tr>\n",
       "      <th>4</th>\n",
       "      <td>1</td>\n",
       "      <td>4</td>\n",
       "      <td>0</td>\n",
       "      <td>0</td>\n",
       "      <td>0</td>\n",
       "      <td>day</td>\n",
       "      <td>2021-07-03</td>\n",
       "      <td>2021</td>\n",
       "      <td>7</td>\n",
       "      <td>3</td>\n",
       "    </tr>\n",
       "  </tbody>\n",
       "</table>\n",
       "</div>"
      ],
      "text/plain": [
       "   cage  hour minute  hops  active phase       date  year  month  day\n",
       "0     1     0      0     0       0   day 2021-07-03  2021      7    3\n",
       "1     1     1      0     0       0   day 2021-07-03  2021      7    3\n",
       "2     1     2      0     0       0   day 2021-07-03  2021      7    3\n",
       "3     1     3      0     0       0   day 2021-07-03  2021      7    3\n",
       "4     1     4      0     0       0   day 2021-07-03  2021      7    3"
      ]
     },
     "execution_count": 229,
     "metadata": {},
     "output_type": "execute_result"
    }
   ],
   "source": [
    "df_long.head()"
   ]
  },
  {
   "cell_type": "code",
   "execution_count": 147,
   "id": "189eed2b",
   "metadata": {},
   "outputs": [
    {
     "data": {
      "text/plain": [
       "'/Users/val/Desktop/hop_data'"
      ]
     },
     "execution_count": 147,
     "metadata": {},
     "output_type": "execute_result"
    }
   ],
   "source": [
    "pwd"
   ]
  },
  {
   "cell_type": "code",
   "execution_count": 173,
   "id": "496d6c53",
   "metadata": {},
   "outputs": [
    {
     "ename": "SyntaxError",
     "evalue": "unexpected EOF while parsing (2652819688.py, line 11)",
     "output_type": "error",
     "traceback": [
      "\u001b[0;36m  File \u001b[0;32m\"/var/folders/33/fyjdbtnj4hx64vhzr5fc84gh0000gn/T/ipykernel_2714/2652819688.py\"\u001b[0;36m, line \u001b[0;32m11\u001b[0m\n\u001b[0;31m    #df.to_csv(str(newdate.date())+'.csv')\u001b[0m\n\u001b[0m                                            ^\u001b[0m\n\u001b[0;31mSyntaxError\u001b[0m\u001b[0;31m:\u001b[0m unexpected EOF while parsing\n"
     ]
    }
   ],
   "source": [
    "#### Lastly, I will write each of these files into a new file with a new name (newdate)\n",
    "\n",
    "#initiate directory for outfile, and export dataframe to csv\n",
    "\n",
    "OUTpath = input(\"type path for OUTPUT directory, no quotes (hint: /Users/val/Desktop/hop_data/hopdata_clean): \"\n",
    "#os.mkdir(OUTpath)\n",
    "#os.chdir(OUTpath)\n",
    "\n",
    "#os.mkdir('/Users/val/Desktop/hop_data/ActivityFiles_clean')\n",
    "#os.chdir('/Users/val/Desktop/hop_data/ActivityFiles_clean')\n",
    "#df.to_csv(str(newdate.date())+'.csv')  \n"
   ]
  },
  {
   "cell_type": "code",
   "execution_count": 232,
   "id": "c1d885ba",
   "metadata": {},
   "outputs": [
    {
     "ename": "SyntaxError",
     "evalue": "invalid syntax (3382141112.py, line 20)",
     "output_type": "error",
     "traceback": [
      "\u001b[0;36m  File \u001b[0;32m\"/var/folders/33/fyjdbtnj4hx64vhzr5fc84gh0000gn/T/ipykernel_2714/3382141112.py\"\u001b[0;36m, line \u001b[0;32m20\u001b[0m\n\u001b[0;31m    folder = os.fsencode(path)\u001b[0m\n\u001b[0m    ^\u001b[0m\n\u001b[0;31mSyntaxError\u001b[0m\u001b[0;31m:\u001b[0m invalid syntax\n"
     ]
    }
   ],
   "source": [
    "#### All together now!?\n",
    "\n",
    "#!/usr/bin/env python3\n",
    "\n",
    "import os\n",
    "import glob\n",
    "import numpy as np\n",
    "import pandas as pd\n",
    "from datetime import datetime\n",
    "\n",
    "#create path for outfile\n",
    "outdir_path = input(\"type path for OUTPUT directory, no quotes (hint: /Users/val/Desktop/hop_data/hopdata_cleaned): \")\n",
    "os.makedirs(outdir_path, exist_ok=True)\n",
    "os.chdir(outdir_path)\n",
    "print(\"Directory for output is set up!\")\n",
    "\n",
    "                     \n",
    "# Set up for big loop                     \n",
    "path = input(\"type path for INPUT directory, no quotes (hint: /Users/val/Desktop/hop_data/july_samples): \"\n",
    "folder = os.fsencode(path)\n",
    "all_files = glob.glob(os.path.join(path, \"*.txt\"))\n",
    "\n",
    "counter = 0\n",
    "print(\"files completed:0 \")\n",
    "     \n",
    "# Big loop, here we go!\n",
    "\n",
    "for file in all_files:\n",
    "    # Read in file\n",
    "    df_test=pd.read_csv(file, header=None, sep='\\t')\n",
    "             \n",
    "    # Remove last column, which is all NAs\n",
    "    df = df.dropna(axis=1, how='all')   \n",
    "             \n",
    "    #  Assign every 24 rows to an integer \n",
    "    Hours_list = list(range(24))\n",
    "    df.insert(loc=0,\n",
    "          column='hour',\n",
    "          value=Hours_list*24)\n",
    "             \n",
    "    # Add bird ID to each 24 rows\n",
    "    BirdIDs = list(range(1,25,1))\n",
    "    Birds_list = np.repeat(BirdIDs,24)\n",
    "    # Add bird ID to each row \n",
    "    df.insert(loc=1,\n",
    "          column='cage',\n",
    "          value=Birds_list)\n",
    "    # Change wide dataset to long format         \n",
    "    df_long = pd.melt(df, id_vars=['cage','hour'], var_name='minute', value_name='hops')\n",
    "    \n",
    "    # Add binomial for activity \n",
    "    df_long['active'] = np.where((df_long.hops > 0), 1, 0)\n",
    "             \n",
    "    # Add phase (night/day) \n",
    "    df_long['phase'] = np.where((df_long.hour > 11), \"night\", \"day\")\n",
    "    \n",
    "    # Convert date to nice format      \n",
    "    date = os.path.basename(file)\n",
    "    newdate = date.strip(\".txt\")\n",
    "    newdate = newdate.replace(\",\",\"\")\n",
    "    newdate = newdate.replace(\" \", \"_\")\n",
    "    newdate = datetime.strptime(newdate, '%B_%d_%Y')\n",
    "             \n",
    "    # Add date as column\n",
    "    df_long['date'] = newdate      \n",
    "             \n",
    "    #separate the date into 3 separate columns \n",
    "    df_long['year']= df_long['date'].dt.year\n",
    "    df_long['month']= df_long['date'].dt.month\n",
    "    df_long['day']= df_long['date'].dt.day\n",
    "    \n",
    "    #write out csv file\n",
    "    newfilename=str(newdate.date())\n",
    "    newfilename=str(newdate.date())+'.csv'\n",
    "    df_long.to_csv(newfilename)\n",
    "        \n",
    "    # Track progress\n",
    "    counter = counter +1\n",
    "    print(counter)\n",
    "             \n",
    "# In the end, combine all new csv files into one mega-file\n",
    "             \n",
    "\n",
    "\n"
   ]
  },
  {
   "cell_type": "code",
   "execution_count": 249,
   "id": "a51857e5",
   "metadata": {},
   "outputs": [
    {
     "ename": "NameError",
     "evalue": "name 'combined_cleaned' is not defined",
     "output_type": "error",
     "traceback": [
      "\u001b[0;31m---------------------------------------------------------------------------\u001b[0m",
      "\u001b[0;31mNameError\u001b[0m                                 Traceback (most recent call last)",
      "\u001b[0;32m/var/folders/33/fyjdbtnj4hx64vhzr5fc84gh0000gn/T/ipykernel_2714/1086946075.py\u001b[0m in \u001b[0;36m<module>\u001b[0;34m\u001b[0m\n\u001b[1;32m      5\u001b[0m \u001b[0mcombined_csv\u001b[0m\u001b[0;34m.\u001b[0m\u001b[0mto_csv\u001b[0m\u001b[0;34m(\u001b[0m \u001b[0;34m\"combined_cleaned.csv\"\u001b[0m\u001b[0;34m,\u001b[0m \u001b[0mindex\u001b[0m\u001b[0;34m=\u001b[0m\u001b[0;32mFalse\u001b[0m\u001b[0;34m,\u001b[0m \u001b[0mencoding\u001b[0m\u001b[0;34m=\u001b[0m\u001b[0;34m'utf-8-sig'\u001b[0m\u001b[0;34m)\u001b[0m\u001b[0;34m\u001b[0m\u001b[0;34m\u001b[0m\u001b[0m\n\u001b[1;32m      6\u001b[0m \u001b[0;34m\u001b[0m\u001b[0m\n\u001b[0;32m----> 7\u001b[0;31m \u001b[0mtest\u001b[0m \u001b[0;34m=\u001b[0m \u001b[0mpd\u001b[0m\u001b[0;34m.\u001b[0m\u001b[0mread_csv\u001b[0m\u001b[0;34m(\u001b[0m\u001b[0mcombined_cleaned\u001b[0m\u001b[0;34m.\u001b[0m\u001b[0mcsv\u001b[0m\u001b[0;34m,\u001b[0m \u001b[0mheader\u001b[0m\u001b[0;34m=\u001b[0m\u001b[0;32mNone\u001b[0m\u001b[0;34m,\u001b[0m \u001b[0msep\u001b[0m\u001b[0;34m=\u001b[0m\u001b[0;34m'\\t'\u001b[0m\u001b[0;34m)\u001b[0m\u001b[0;34m\u001b[0m\u001b[0;34m\u001b[0m\u001b[0m\n\u001b[0m\u001b[1;32m      8\u001b[0m \u001b[0mtest\u001b[0m\u001b[0;34m.\u001b[0m\u001b[0mhead\u001b[0m\u001b[0;34m(\u001b[0m\u001b[0;34m)\u001b[0m\u001b[0;34m\u001b[0m\u001b[0;34m\u001b[0m\u001b[0m\n",
      "\u001b[0;31mNameError\u001b[0m: name 'combined_cleaned' is not defined"
     ]
    }
   ],
   "source": [
    "#os.chdir(outdir_path)\n",
    "os.chdir('/Users/val/Desktop/hop_data/hopdata_cleaned')\n",
    "all_new_files = [i for i in glob.glob(f\"*{'.csv'}\")]\n",
    "combined_csv = pd.concat([pd.read_csv(f) for f in all_new_files ])\n",
    "combined_csv.to_csv( \"combined_cleaned.csv\", index=False, encoding='utf-8-sig')\n"
   ]
  },
  {
   "cell_type": "code",
   "execution_count": 253,
   "id": "33cbcc3c",
   "metadata": {},
   "outputs": [
    {
     "name": "stdout",
     "output_type": "stream",
     "text": [
      "   Unnamed: 0  cage  hour  minute  hops  active phase        date  year  \\\n",
      "0           0     1     0       0     0       0   day  2021-07-09  2021   \n",
      "1           1     1     1       0     2       1   day  2021-07-09  2021   \n",
      "2           2     1     2       0     3       1   day  2021-07-09  2021   \n",
      "3           3     1     3       0     3       1   day  2021-07-09  2021   \n",
      "4           4     1     4       0     0       0   day  2021-07-09  2021   \n",
      "\n",
      "   month  day  \n",
      "0      7    9  \n",
      "1      7    9  \n",
      "2      7    9  \n",
      "3      7    9  \n",
      "4      7    9  \n",
      "         Unnamed: 0  cage  hour  minute  hops  active  phase        date  \\\n",
      "1555195       34555    24    19      59     0       0  night  2021-07-07   \n",
      "1555196       34556    24    20      59     0       0  night  2021-07-07   \n",
      "1555197       34557    24    21      59     0       0  night  2021-07-07   \n",
      "1555198       34558    24    22      59     0       0  night  2021-07-07   \n",
      "1555199       34559    24    23      59     0       0  night  2021-07-07   \n",
      "\n",
      "         year  month  day  \n",
      "1555195  2021      7    7  \n",
      "1555196  2021      7    7  \n",
      "1555197  2021      7    7  \n",
      "1555198  2021      7    7  \n",
      "1555199  2021      7    7  \n"
     ]
    }
   ],
   "source": [
    "test = pd.read_csv('combined_cleaned.csv')\n",
    "print(test.head())\n",
    "print(test.tail())"
   ]
  }
 ],
 "metadata": {
  "kernelspec": {
   "display_name": "Python 3 (ipykernel)",
   "language": "python",
   "name": "python3"
  },
  "language_info": {
   "codemirror_mode": {
    "name": "ipython",
    "version": 3
   },
   "file_extension": ".py",
   "mimetype": "text/x-python",
   "name": "python",
   "nbconvert_exporter": "python",
   "pygments_lexer": "ipython3",
   "version": "3.8.8"
  }
 },
 "nbformat": 4,
 "nbformat_minor": 5
}
