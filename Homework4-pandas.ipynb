{
 "cells": [
  {
   "cell_type": "markdown",
   "metadata": {},
   "source": [
    "# Homework 4 - pandas (YOUR NAME HERE)  \n",
    "### due 3/1/2022   \n",
    "\n",
    "Use this notebook and prompts to complete the homework. Throughout there will be hints and some code provided  \n",
    "\n",
    "### Things you will need:  \n",
    "- Install os, NumPy, pandas  \n",
    "- states_covid.csv  \n",
    "- Bloom_etal_2018_Reduced_Dataset.csv  \n",
    "- logfiles.tgz (or some other multiple file dataset)  \n",
    "\n",
    "*NOTE*: Make sure your PATH is correct  \n",
    "\n",
    "**import packages & check required datasets**   "
   ]
  },
  {
   "cell_type": "code",
   "execution_count": 1,
   "metadata": {},
   "outputs": [],
   "source": [
    "import os\n",
    "import numpy as np\n",
    "import pandas as pd"
   ]
  },
  {
   "cell_type": "code",
   "execution_count": 46,
   "metadata": {},
   "outputs": [],
   "source": [
    "PATH = 'YOUR/PATH/HERE' #CHANGE"
   ]
  },
  {
   "cell_type": "code",
   "execution_count": 2,
   "metadata": {},
   "outputs": [
    {
     "ename": "NameError",
     "evalue": "name 'PATH' is not defined",
     "output_type": "error",
     "traceback": [
      "\u001b[1;31m---------------------------------------------------------------------------\u001b[0m",
      "\u001b[1;31mNameError\u001b[0m                                 Traceback (most recent call last)",
      "\u001b[1;32m<ipython-input-2-9556f3fe7a2e>\u001b[0m in \u001b[0;36m<module>\u001b[1;34m\u001b[0m\n\u001b[1;32m----> 1\u001b[1;33m \u001b[1;32massert\u001b[0m \u001b[0mos\u001b[0m\u001b[1;33m.\u001b[0m\u001b[0mpath\u001b[0m\u001b[1;33m.\u001b[0m\u001b[0mexists\u001b[0m\u001b[1;33m(\u001b[0m\u001b[0mos\u001b[0m\u001b[1;33m.\u001b[0m\u001b[0mpath\u001b[0m\u001b[1;33m.\u001b[0m\u001b[0mjoin\u001b[0m\u001b[1;33m(\u001b[0m\u001b[0mPATH\u001b[0m\u001b[1;33m,\u001b[0m\u001b[1;34m'states_covid.csv'\u001b[0m\u001b[1;33m)\u001b[0m\u001b[1;33m)\u001b[0m\u001b[1;33m,\u001b[0m \u001b[1;34m'states_covid.csv does not exist'\u001b[0m\u001b[1;33m\u001b[0m\u001b[1;33m\u001b[0m\u001b[0m\n\u001b[0m",
      "\u001b[1;31mNameError\u001b[0m: name 'PATH' is not defined"
     ]
    }
   ],
   "source": [
    "assert os.path.exists(os.path.join(PATH,'states_covid.csv')), 'states_covid.csv does not exist' "
   ]
  },
  {
   "cell_type": "code",
   "execution_count": 5,
   "metadata": {},
   "outputs": [],
   "source": [
    "assert os.path.exists(os.path.join(PATH,'Bloom_etal_2018_Reduced_Dataset.csv')), 'Bloom_etal_2018_Reduced_Dataset.csv does not exist'"
   ]
  },
  {
   "cell_type": "markdown",
   "metadata": {},
   "source": [
    "## Task 1 - DataFrame manipulation  \n",
    "\n",
    "Using **states_covid.csv**, we are going to read the data in as a DataFrame to manipulate, subset, and filter in various ways.   \n",
    "\n",
    "### Task 1.1 \n",
    "\n",
    "Read in states_covid.csv with date as a \"date\" dtype, and only columns consisting of the hospitalization (4 col), ICU (2 col), and Ventilators (2 col)  "
   ]
  },
  {
   "cell_type": "code",
   "execution_count": 8,
   "metadata": {},
   "outputs": [],
   "source": [
    "s_covid_df = pd.read_csv('states_covid.csv',usecols=['date', 'state','hospitalized','inIcuCurrently','onVentilatorCurrently'],parse_dates=['date'],infer_datetime_format=True)\n",
    "#Read in file with parse_dates and infer_datetime_format True\n",
    "#And only use columns we want\n",
    "\n"
   ]
  },
  {
   "cell_type": "markdown",
   "metadata": {},
   "source": [
    "### Task 1.2 \n",
    "\n",
    "For each of the following catergories: *currently* hospitalized, *currently* in the ICU, and *currently* on ventilation...  \n",
    "Find the 5 states with the greatest numbers in each catergory and list them in order.      \n",
    "*hint*: sort_values, unique  "
   ]
  },
  {
   "cell_type": "code",
   "execution_count": 12,
   "metadata": {},
   "outputs": [
    {
     "name": "stdout",
     "output_type": "stream",
     "text": [
      "['NY' 'FL' 'NJ' 'AZ' 'GA']\n",
      "['NY' 'CA' 'TX' 'NJ' 'MI']\n",
      "['NY' 'NJ' 'MI' 'OH' 'IL']\n"
     ]
    }
   ],
   "source": [
    "hosp = s_covid_df.sort_values('hospitalized',ascending=False)\n",
    "st_hosp = hosp['state'].unique()\n",
    "#Sort by the most hospitalized and then separate by state, using unique to pull out the top ones in order\n",
    "\n",
    "print(st_hosp[:5])\n",
    "#Print top 5 states\n",
    "\n",
    "#Do the same for ICU currently and Ventilation Currently \n",
    "\n",
    "ICU = s_covid_df.sort_values('inIcuCurrently',ascending=False)\n",
    "St_ICU = ICU['state'].unique()\n",
    "\n",
    "print(St_ICU[:5])\n",
    "\n",
    "\n",
    "Vent = s_covid_df.sort_values('onVentilatorCurrently',ascending=False)\n",
    "St_Vent = Vent['state'].unique()\n",
    "\n",
    "print(St_Vent[:5])\n"
   ]
  },
  {
   "cell_type": "markdown",
   "metadata": {},
   "source": [
    "### Task 1.3 \n",
    "\n",
    "Find the date in which each state crossed 1000 cumulative hospitilized covid patients"
   ]
  },
  {
   "cell_type": "code",
   "execution_count": 13,
   "metadata": {},
   "outputs": [
    {
     "name": "stdout",
     "output_type": "stream",
     "text": [
      "            date hospitalized inIcuCurrently onVentilatorCurrently\n",
      "             min          min            min                   min\n",
      "state                                                             \n",
      "AK    2020-12-29       1004.0            NaN                   2.0\n",
      "AL    2020-05-01       1008.0            NaN                   NaN\n",
      "AR    2020-06-15       1003.0          160.0                  45.0\n",
      "AZ    2020-04-11       1037.0          114.0                  47.0\n",
      "CO    2020-04-07       1079.0            NaN                   NaN\n",
      "CT    2020-05-01       7758.0            NaN                   NaN\n",
      "FL    2020-04-02       1123.0            NaN                   NaN\n",
      "GA    2020-04-02       1056.0            NaN                   NaN\n",
      "HI    2020-10-18       1001.0            7.0                   1.0\n",
      "ID    2020-08-11       1006.0           25.0                   NaN\n",
      "IN    2020-05-08       4389.0          159.0                  62.0\n",
      "KS    2020-06-17       1011.0            1.0                  10.0\n",
      "KY    2020-04-18       1008.0           61.0                 119.0\n",
      "MA    2020-04-04       1370.0           47.0                  15.0\n",
      "MD    2020-04-06       1059.0           68.0                   NaN\n",
      "ME    2020-12-23       1000.0           22.0                   6.0\n",
      "MN    2020-04-30       1044.0           48.0                   NaN\n",
      "MS    2020-04-26       1001.0          113.0                  58.0\n",
      "MT    2020-10-17       1001.0           18.0                  10.0\n",
      "ND    2020-10-08       1016.0            5.0                   NaN\n",
      "NE    2020-06-11       1000.0            NaN                   NaN\n",
      "NH    2021-01-24       1000.0            NaN                   NaN\n",
      "NJ    2020-05-26      16373.0           61.0                  26.0\n",
      "NM    2020-05-20       1139.0            NaN                   NaN\n",
      "NY    2020-03-21       1531.0          109.0                  47.0\n",
      "OH    2020-04-04       1006.0          182.0                  90.0\n",
      "OK    2020-06-03       1003.0           58.0                   NaN\n",
      "OR    2020-06-25       1006.0           31.0                  11.0\n",
      "PA    2020-04-04       1004.0            NaN                 533.0\n",
      "RI    2020-05-03       1013.0            2.0                   2.0\n",
      "SC    2020-04-29       1000.0          150.0                  72.0\n",
      "SD    2020-08-29       1006.0           10.0                   4.0\n",
      "TN    2020-04-29       1013.0          249.0                 106.0\n",
      "UT    2020-06-13       1012.0           40.0                   NaN\n",
      "VA    2020-04-16       1048.0          190.0                  81.0\n",
      "WA    2020-05-21       3125.0           59.0                   8.0\n",
      "WI    2020-04-14       1049.0           51.0                 348.0\n",
      "WY    2020-12-18       1001.0            NaN                   NaN\n"
     ]
    }
   ],
   "source": [
    "cum_hosp = s_covid_df.query('hospitalized > 999')\n",
    "#Create a item that has all information of cumulative hopsitialization of 1000 or above\n",
    "\n",
    "St_cum_hosp = cum_hosp.groupby('state',as_index=True).agg(['min'])\n",
    "#Pull out all the states by the minimun (a.k.a. when they hit 1000 or more)\n",
    "\n",
    "print(St_cum_hosp)"
   ]
  },
  {
   "cell_type": "markdown",
   "metadata": {},
   "source": [
    "## Task 2 - DataFrame summarizing  \n",
    "\n",
    "Using **Bloom_etal_2018_Reduced_Dataset.csv**, we are going to do more dataframe manipulation and subsetting and summarizing    \n",
    "\n",
    "### Task 2.1 \n",
    "\n",
    "Read in Bloom_etal_2018_Reduced_Dataset.csv and create two new columns ('genus','species') that consists of the column *taxa* split at the underscore. Print out the head of this new dataframe and the number of unique genera**     \n",
    "\n",
    "*hint:* pd.str.split(,expand=True)  \n",
    "\n",
    "for example:  \n",
    "\n",
    "| taxa | genus | species   \n",
    "| :------ | :-- | :---   \n",
    "| Alosa_alabamae | Alosa | alabamae  "
   ]
  },
  {
   "cell_type": "code",
   "execution_count": 62,
   "metadata": {},
   "outputs": [
    {
     "name": "stdout",
     "output_type": "stream",
     "text": [
      "                   taxa  logbodysize  trophic_position         Reg  genus  \\\n",
      "0        Alosa_alabamae     1.707570          0.431364  diadromous  Alosa   \n",
      "1           Alosa_alosa     1.778151          0.556303  diadromous  Alosa   \n",
      "2          Alosa_fallax     1.778151          0.556303  diadromous  Alosa   \n",
      "3       Alosa_mediocris     1.778151          0.612784  diadromous  Alosa   \n",
      "4  Alosa_pseudoharengus     1.602060          0.544068  diadromous  Alosa   \n",
      "\n",
      "          species  \n",
      "0        alabamae  \n",
      "1           alosa  \n",
      "2          fallax  \n",
      "3       mediocris  \n",
      "4  pseudoharengus  \n",
      "34\n"
     ]
    }
   ],
   "source": [
    "bloom_df = pd.read_csv('Bloom_etal_2018_Reduced_Dataset.csv')\n",
    "#Read in dataframe\n",
    "\n",
    "new = bloom_df[\"taxa\"].str.split(\"_\", expand = True)\n",
    "#Create a new df by spliting taxa by _\n",
    "#This is only the split items\n",
    "\n",
    "bloom_df[\"genus\"]= new[0]\n",
    "bloom_df[\"species\"]= new[1]\n",
    "#Add in new columns to the orignial\n",
    "\n",
    "print(bloom_df.head())\n",
    "#Print out the top\n",
    "\n",
    "\n",
    "print(bloom_df['genus'].nunique())\n",
    "#Print out the number of unique genuses\n"
   ]
  },
  {
   "cell_type": "markdown",
   "metadata": {},
   "source": [
    "### Task 2.2 \n",
    "\n",
    "Create a new dataframe with the mean *logbodysize* and *trophicposition* of each genera. Sort this data frame by the largest body size. Print the head of this dataframe."
   ]
  },
  {
   "cell_type": "code",
   "execution_count": 76,
   "metadata": {},
   "outputs": [
    {
     "name": "stdout",
     "output_type": "stream",
     "text": [
      "         genus  logbodysize  trophic_position\n",
      "32   Tenualosa     1.778151          0.462398\n",
      "0        Alosa     1.739062          0.540815\n",
      "10      Coilia     1.544068          0.477121\n",
      "15   Ethmalosa     1.544068          0.397940\n",
      "23  Potamalosa     1.505150          0.518514\n"
     ]
    }
   ],
   "source": [
    "log_trop_df = bloom_df.groupby('genus',as_index=False).agg('mean')\n",
    "#Create new df grouping by genus and getting the mean\n",
    "\n",
    "sort_log_trop = log_trop_df.sort_values('logbodysize',ascending=False)\n",
    "#Sort by body size\n",
    "\n",
    "\n",
    "#print(log_trop_df.head())\n",
    "print(sort_log_trop.head())\n",
    "\n",
    "\n",
    "\n"
   ]
  },
  {
   "cell_type": "markdown",
   "metadata": {},
   "source": [
    "Which genera is the smallest and largest?"
   ]
  },
  {
   "cell_type": "code",
   "execution_count": 80,
   "metadata": {},
   "outputs": [
    {
     "name": "stdout",
     "output_type": "stream",
     "text": [
      "The largest genus is Tenualosa\n",
      "The smallest genus is Amazonsprattus\n"
     ]
    }
   ],
   "source": [
    "print(\"The largest genus is\",sort_log_trop.iloc[0, 0])\n",
    "\n",
    "print(\"The smallest genus is\",sort_log_trop.iloc[33, 0])"
   ]
  },
  {
   "cell_type": "markdown",
   "metadata": {},
   "source": [
    "What is the trophic position of the smallest and largest?  "
   ]
  },
  {
   "cell_type": "code",
   "execution_count": 82,
   "metadata": {},
   "outputs": [
    {
     "name": "stdout",
     "output_type": "stream",
     "text": [
      "The trophic position of the largest genus is 0.462397998\n",
      "The trophic position of the smallest genus is 0.531478917\n"
     ]
    }
   ],
   "source": [
    "print(\"The trophic position of the largest genus is\",sort_log_trop.iloc[0, 2])\n",
    "\n",
    "print(\"The trophic position of the smallest genus is\",sort_log_trop.iloc[33, 2])"
   ]
  },
  {
   "cell_type": "markdown",
   "metadata": {},
   "source": [
    "## Task 3 - Read in muliple files to a dictionary and make a DataFrame - **OPTIONAL/BONUS**  \n",
    "\n",
    "### This is not something you are expected to do in this course, but just here to give you an idea of the things that you COULD do. Answers will be posted after due date.  \n",
    "\n",
    "\n",
    "Using **logfiles**: we are going to do read in each file, get some data, append it to a dictionary to later make into a dataframe.     \n",
    "\n",
    "**note:** *make sure to unzip logfiles*"
   ]
  },
  {
   "cell_type": "code",
   "execution_count": 20,
   "metadata": {},
   "outputs": [
    {
     "name": "stdout",
     "output_type": "stream",
     "text": [
      "/Users/trevorfaske/Desktop/Classes/DataScience/pandas/Spring22\n"
     ]
    }
   ],
   "source": [
    "cd $PATH"
   ]
  },
  {
   "cell_type": "code",
   "execution_count": 21,
   "metadata": {},
   "outputs": [],
   "source": [
    "!tar -xzf logfiles.tgz #unzip logfiles"
   ]
  },
  {
   "cell_type": "code",
   "execution_count": 22,
   "metadata": {},
   "outputs": [],
   "source": [
    "log_dir = os.path.join(PATH,'logfiles')\n",
    "assert os.path.exists(log_dir), 'log_dir does not exist'"
   ]
  },
  {
   "cell_type": "markdown",
   "metadata": {},
   "source": [
    "First step is to find the necessary files. The number of files in the log files is 36, make sure you have that many as well  "
   ]
  },
  {
   "cell_type": "code",
   "execution_count": 23,
   "metadata": {},
   "outputs": [
    {
     "name": "stdout",
     "output_type": "stream",
     "text": [
      "      36\r\n"
     ]
    }
   ],
   "source": [
    "!ls -l logfiles/*txt | wc -l "
   ]
  },
  {
   "cell_type": "code",
   "execution_count": 24,
   "metadata": {},
   "outputs": [
    {
     "name": "stdout",
     "output_type": "stream",
     "text": [
      "/Users/trevorfaske/g/Classes/DataScience/pandas/Spring22/logfiles/1901302121_H8_S_14.txt.txt\n"
     ]
    }
   ],
   "source": [
    "logfiles = !find $log_dir -name '*txt' #unix command to find files in log_dir directory\n",
    "logfiles = [os.path.abspath(x) for x in logfiles] #this finds the full path to the file\n",
    "print(logfiles[1])"
   ]
  },
  {
   "cell_type": "code",
   "execution_count": 25,
   "metadata": {},
   "outputs": [],
   "source": [
    "assert(len(logfiles)==36), 'Do not have correct number of logfiles'"
   ]
  },
  {
   "cell_type": "markdown",
   "metadata": {},
   "source": [
    "### Getting a little tricky here  \n",
    "\n",
    "Read in each of the logfiles, for each file extract:  \n",
    "- minimum temperature  \n",
    "- maximum temperature  \n",
    "- date of minimum temp   \n",
    "- date of maximum temp   \n",
    "- mean temp for each file.   \n",
    "\n",
    "This data should all be appended for a dictionary within a for loop:    \n",
    "Key should be the file name without the path or .txt extension  \n",
    "Values should be (minTemp,maxTemp,minDate,maxDate,meanTemp)\n",
    "\n",
    "I recommend making this work for one file first, then putting the rest in a for loop to do the rest.  \n",
    "\n",
    "Below is an example of how to read in one file\n",
    "\n",
    "*hint:* do not read date in as date object"
   ]
  },
  {
   "cell_type": "code",
   "execution_count": 41,
   "metadata": {},
   "outputs": [
    {
     "data": {
      "text/html": [
       "<div>\n",
       "<style scoped>\n",
       "    .dataframe tbody tr th:only-of-type {\n",
       "        vertical-align: middle;\n",
       "    }\n",
       "\n",
       "    .dataframe tbody tr th {\n",
       "        vertical-align: top;\n",
       "    }\n",
       "\n",
       "    .dataframe thead th {\n",
       "        text-align: right;\n",
       "    }\n",
       "</style>\n",
       "<table border=\"1\" class=\"dataframe\">\n",
       "  <thead>\n",
       "    <tr style=\"text-align: right;\">\n",
       "      <th></th>\n",
       "      <th>Date</th>\n",
       "      <th>Time</th>\n",
       "      <th>Temp</th>\n",
       "    </tr>\n",
       "  </thead>\n",
       "  <tbody>\n",
       "    <tr>\n",
       "      <th>0</th>\n",
       "      <td>9/16/2013</td>\n",
       "      <td>8:00:00 AM</td>\n",
       "      <td>47.9</td>\n",
       "    </tr>\n",
       "    <tr>\n",
       "      <th>1</th>\n",
       "      <td>9/16/2013</td>\n",
       "      <td>8:35:00 AM</td>\n",
       "      <td>48.2</td>\n",
       "    </tr>\n",
       "    <tr>\n",
       "      <th>2</th>\n",
       "      <td>9/16/2013</td>\n",
       "      <td>9:10:00 AM</td>\n",
       "      <td>48.7</td>\n",
       "    </tr>\n",
       "    <tr>\n",
       "      <th>3</th>\n",
       "      <td>9/16/2013</td>\n",
       "      <td>9:45:00 AM</td>\n",
       "      <td>49.4</td>\n",
       "    </tr>\n",
       "    <tr>\n",
       "      <th>4</th>\n",
       "      <td>9/16/2013</td>\n",
       "      <td>10:20:00 AM</td>\n",
       "      <td>50.3</td>\n",
       "    </tr>\n",
       "  </tbody>\n",
       "</table>\n",
       "</div>"
      ],
      "text/plain": [
       "        Date         Time  Temp\n",
       "0  9/16/2013   8:00:00 AM  47.9\n",
       "1  9/16/2013   8:35:00 AM  48.2\n",
       "2  9/16/2013   9:10:00 AM  48.7\n",
       "3  9/16/2013   9:45:00 AM  49.4\n",
       "4  9/16/2013  10:20:00 AM  50.3"
      ]
     },
     "execution_count": 41,
     "metadata": {},
     "output_type": "execute_result"
    }
   ],
   "source": [
    "### set up data frame as you read in each file\n",
    "infile = pd.read_csv(logfiles[0],sep='\\t',engine='python')\n",
    "infile.columns = ['Index','Date','Time','Temp','Type']\n",
    "infile = infile[['Date','Time','Temp']]\n",
    "infile.head()"
   ]
  },
  {
   "cell_type": "markdown",
   "metadata": {},
   "source": [
    "Do everything in steps, make sure it works. Calculate summaries with this one infile:"
   ]
  },
  {
   "cell_type": "code",
   "execution_count": 26,
   "metadata": {},
   "outputs": [
    {
     "ename": "SyntaxError",
     "evalue": "invalid syntax (<ipython-input-26-d888355c2242>, line 1)",
     "output_type": "error",
     "traceback": [
      "\u001b[0;36m  File \u001b[0;32m\"<ipython-input-26-d888355c2242>\"\u001b[0;36m, line \u001b[0;32m1\u001b[0m\n\u001b[0;31m    minTemp =\u001b[0m\n\u001b[0m                ^\u001b[0m\n\u001b[0;31mSyntaxError\u001b[0m\u001b[0;31m:\u001b[0m invalid syntax\n"
     ]
    }
   ],
   "source": [
    "minTemp =   \n",
    "maxTemp =  \n",
    "minDate = infile['Date'][infile['Temp'] == infile['Temp'].min()].unique()[0] #use this for minDate \n",
    "maxDate = infile['Date'][infile['Temp'] == infile['Temp'].max()].unique()[0] #use this for maxDate \n",
    "meanTemp = "
   ]
  },
  {
   "cell_type": "markdown",
   "metadata": {},
   "source": [
    "To get you started, I suggest writing some dummy code in plain words to help outline your for loop:  "
   ]
  },
  {
   "cell_type": "code",
   "execution_count": null,
   "metadata": {},
   "outputs": [],
   "source": [
    "logfiles_dict = {}  \n",
    "for f in logfiles:  \n",
    "    #do something   \n",
    "    #do not read date in as date object  \n",
    "    #do more something   \n",
    "    #do other stuff  \n",
    "    #make print statements EVERYWHERE  \n",
    "    #append to dict  \n",
    "    #blahbahblah"
   ]
  },
  {
   "cell_type": "markdown",
   "metadata": {},
   "source": [
    "Then do the real code below here. You don't need to turnin your thoughts. Just put it in there as a help reminder. Most people all still do this, no matter how advanced they are"
   ]
  },
  {
   "cell_type": "code",
   "execution_count": null,
   "metadata": {},
   "outputs": [],
   "source": []
  },
  {
   "cell_type": "markdown",
   "metadata": {},
   "source": [
    "**Once you have created a DataFrame with all the logfiles, print the head and save it to an outfile using pd.to_csv() as logfiles_df.csv** "
   ]
  },
  {
   "cell_type": "code",
   "execution_count": null,
   "metadata": {},
   "outputs": [],
   "source": []
  },
  {
   "cell_type": "markdown",
   "metadata": {},
   "source": [
    "#### Here is an example of the final product"
   ]
  },
  {
   "cell_type": "code",
   "execution_count": 32,
   "metadata": {},
   "outputs": [
    {
     "data": {
      "text/html": [
       "<div>\n",
       "<style scoped>\n",
       "    .dataframe tbody tr th:only-of-type {\n",
       "        vertical-align: middle;\n",
       "    }\n",
       "\n",
       "    .dataframe tbody tr th {\n",
       "        vertical-align: top;\n",
       "    }\n",
       "\n",
       "    .dataframe thead th {\n",
       "        text-align: right;\n",
       "    }\n",
       "</style>\n",
       "<table border=\"1\" class=\"dataframe\">\n",
       "  <thead>\n",
       "    <tr style=\"text-align: right;\">\n",
       "      <th></th>\n",
       "      <th>minTemp</th>\n",
       "      <th>maxTemp</th>\n",
       "      <th>minDate</th>\n",
       "      <th>maxDate</th>\n",
       "      <th>meanTemp</th>\n",
       "    </tr>\n",
       "  </thead>\n",
       "  <tbody>\n",
       "    <tr>\n",
       "      <th>1901302235_H6_S_14</th>\n",
       "      <td>21.3</td>\n",
       "      <td>65.8</td>\n",
       "      <td>12/6/2013</td>\n",
       "      <td>7/13/2014</td>\n",
       "      <td>35.726191</td>\n",
       "    </tr>\n",
       "    <tr>\n",
       "      <th>1901302121_H8_S_14</th>\n",
       "      <td>17.9</td>\n",
       "      <td>73.4</td>\n",
       "      <td>10/28/2013</td>\n",
       "      <td>7/13/2014</td>\n",
       "      <td>34.698866</td>\n",
       "    </tr>\n",
       "    <tr>\n",
       "      <th>1901302217_H18_D_14</th>\n",
       "      <td>21.0</td>\n",
       "      <td>82.4</td>\n",
       "      <td>10/28/2013</td>\n",
       "      <td>7/26/2014</td>\n",
       "      <td>33.334564</td>\n",
       "    </tr>\n",
       "    <tr>\n",
       "      <th>1901302110_H13_S_14</th>\n",
       "      <td>22.8</td>\n",
       "      <td>60.9</td>\n",
       "      <td>10/4/2013</td>\n",
       "      <td>7/13/2014</td>\n",
       "      <td>32.240032</td>\n",
       "    </tr>\n",
       "    <tr>\n",
       "      <th>1901302146_H14_D_14</th>\n",
       "      <td>24.6</td>\n",
       "      <td>66.1</td>\n",
       "      <td>1/21/2014</td>\n",
       "      <td>7/13/2014</td>\n",
       "      <td>34.242075</td>\n",
       "    </tr>\n",
       "  </tbody>\n",
       "</table>\n",
       "</div>"
      ],
      "text/plain": [
       "                     minTemp  maxTemp     minDate    maxDate   meanTemp\n",
       "1901302235_H6_S_14      21.3     65.8   12/6/2013  7/13/2014  35.726191\n",
       "1901302121_H8_S_14      17.9     73.4  10/28/2013  7/13/2014  34.698866\n",
       "1901302217_H18_D_14     21.0     82.4  10/28/2013  7/26/2014  33.334564\n",
       "1901302110_H13_S_14     22.8     60.9   10/4/2013  7/13/2014  32.240032\n",
       "1901302146_H14_D_14     24.6     66.1   1/21/2014  7/13/2014  34.242075"
      ]
     },
     "execution_count": 32,
     "metadata": {},
     "output_type": "execute_result"
    }
   ],
   "source": [
    "logfiles_df.head()"
   ]
  }
 ],
 "metadata": {
  "kernelspec": {
   "display_name": "Python 3 (ipykernel)",
   "language": "python",
   "name": "python3"
  },
  "language_info": {
   "codemirror_mode": {
    "name": "ipython",
    "version": 3
   },
   "file_extension": ".py",
   "mimetype": "text/x-python",
   "name": "python",
   "nbconvert_exporter": "python",
   "pygments_lexer": "ipython3",
   "version": "3.8.8"
  }
 },
 "nbformat": 4,
 "nbformat_minor": 4
}
